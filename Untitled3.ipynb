{
 "cells": [
  {
   "cell_type": "code",
   "execution_count": 1,
   "metadata": {},
   "outputs": [
    {
     "name": "stderr",
     "output_type": "stream",
     "text": [
      "┌ Info: Precompiling Polyhedra [67491407-f73d-577b-9b50-8179a7c68029]\n",
      "└ @ Base loading.jl:1187\n"
     ]
    }
   ],
   "source": [
    "using Polyhedra\n",
    "using JuMP"
   ]
  },
  {
   "cell_type": "code",
   "execution_count": 3,
   "metadata": {},
   "outputs": [
    {
     "name": "stderr",
     "output_type": "stream",
     "text": [
      "┌ Info: Precompiling PiecewiseLinearOpt [0f51c51e-adfa-5141-8a04-d40246b8977c]\n",
      "└ @ Base loading.jl:1187\n",
      "┌ Warning: Deprecated syntax `type` at /Users/philip/.julia/packages/PiecewiseLinearOpt/65zl7/src/types.jl:1.\n",
      "│ Use `mutable struct` instead.\n",
      "└ @ ~/.julia/packages/PiecewiseLinearOpt/65zl7/src/types.jl:1\n",
      "┌ Warning: Deprecated syntax `parametric method syntax PWLFunction{D}(x::Vector{NTuple{D}}, z::Vector, T::Vector{Vector}, meta::Dict)` around /Users/philip/.julia/packages/PiecewiseLinearOpt/65zl7/src/types.jl:8.\n",
      "│ Use `PWLFunction(x::Vector{NTuple{D}}, z::Vector, T::Vector{Vector}, meta::Dict) where D` instead.\n",
      "└ @ ~/.julia/packages/PiecewiseLinearOpt/65zl7/src/types.jl:8\n",
      "┌ Warning: Deprecated syntax `type` at /Users/philip/.julia/packages/PiecewiseLinearOpt/65zl7/src/jump.jl:4.\n",
      "│ Use `mutable struct` instead.\n",
      "└ @ ~/.julia/packages/PiecewiseLinearOpt/65zl7/src/jump.jl:4\n",
      "┌ Warning: Deprecated syntax `parametric method syntax compute_hyperplanes{T}(C::Vector{Vector{T}})` around /Users/philip/.julia/packages/PiecewiseLinearOpt/65zl7/src/jump.jl:339.\n",
      "│ Use `compute_hyperplanes(C::Vector{Vector{T}}) where T` instead.\n",
      "└ @ ~/.julia/packages/PiecewiseLinearOpt/65zl7/src/jump.jl:339\n"
     ]
    }
   ],
   "source": [
    "using PiecewiseLinearOpt"
   ]
  },
  {
   "cell_type": "code",
   "execution_count": 4,
   "metadata": {},
   "outputs": [
    {
     "name": "stderr",
     "output_type": "stream",
     "text": [
      "┌ Warning: Deprecated syntax `implicit assignment to global variable `#1###368``.\n",
      "│ Use `global #1###368` instead.\n",
      "└ @ nothing none:0\n"
     ]
    },
    {
     "data": {
      "text/latex": [
       "$$ x $$"
      ],
      "text/plain": [
       "x"
      ]
     },
     "execution_count": 4,
     "metadata": {},
     "output_type": "execute_result"
    }
   ],
   "source": [
    "m = Model()\n",
    "@variable(m, x)"
   ]
  },
  {
   "cell_type": "code",
   "execution_count": null,
   "metadata": {},
   "outputs": [],
   "source": [
    "z = piecewiselinear(m, x, -pi:pi, fd)"
   ]
  },
  {
   "cell_type": "code",
   "execution_count": 5,
   "metadata": {},
   "outputs": [
    {
     "data": {
      "text/plain": [
       "π = 3.1415926535897..."
      ]
     },
     "execution_count": 5,
     "metadata": {},
     "output_type": "execute_result"
    }
   ],
   "source": [
    "pi"
   ]
  },
  {
   "cell_type": "code",
   "execution_count": null,
   "metadata": {},
   "outputs": [],
   "source": [
    "Pkg.add(\"ConditionalJuMP\")"
   ]
  },
  {
   "cell_type": "code",
   "execution_count": null,
   "metadata": {},
   "outputs": [],
   "source": [
    "using Cbc"
   ]
  },
  {
   "cell_type": "code",
   "execution_count": null,
   "metadata": {},
   "outputs": [],
   "source": []
  }
 ],
 "metadata": {
  "kernelspec": {
   "display_name": "Julia 0.7.0",
   "language": "julia",
   "name": "julia-0.7"
  },
  "language_info": {
   "file_extension": ".jl",
   "mimetype": "application/julia",
   "name": "julia",
   "version": "0.7.0"
  }
 },
 "nbformat": 4,
 "nbformat_minor": 2
}
