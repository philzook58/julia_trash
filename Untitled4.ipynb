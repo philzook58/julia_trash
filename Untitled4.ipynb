{
 "cells": [
  {
   "cell_type": "code",
   "execution_count": 3,
   "metadata": {},
   "outputs": [
    {
     "name": "stderr",
     "output_type": "stream",
     "text": [
      "┌ Info: Precompiling ConditionalJuMP [ae04f764-fc8b-5ee0-af1c-aa760b5c9409]\n",
      "└ @ Base loading.jl:1187\n",
      "WARNING: Method definition setrounding(Type{T<:Union{Float32, Float64}}, Base.Rounding.RoundingMode{T} where T) where {T<:Union{Float32, Float64}} in module Base at deprecated.jl:1699 overwritten in module SetRounding at /Users/philip/.julia/packages/SetRounding/MjtxK/src/SetRounding.jl:47.\n",
      "WARNING: Method definition setrounding(Type{T<:Union{Float32, Float64}}, Base.Rounding.RoundingMode{T} where T) where {T<:Union{Float32, Float64}} in module Base at deprecated.jl:1699 overwritten in module SetRounding at /Users/philip/.julia/packages/SetRounding/MjtxK/src/SetRounding.jl:47.\n",
      "WARNING: could not import Base.showfull into IntervalArithmetic\n",
      "WARNING: Method definition setrounding(Type{T<:Union{Float32, Float64}}, Base.Rounding.RoundingMode{T} where T) where {T<:Union{Float32, Float64}} in module Base at deprecated.jl:1699 overwritten in module SetRounding at /Users/philip/.julia/packages/SetRounding/MjtxK/src/SetRounding.jl:47.\n",
      "┌ Warning: Deprecated syntax ``?` used as an identifier` at /Users/philip/.julia/packages/ConditionalJuMP/durM1/src/macros.jl:30.\n",
      "└ @ ~/.julia/packages/ConditionalJuMP/durM1/src/macros.jl:30\n",
      "WARNING: importing deprecated binding Base.@sprintf into ConditionalJuMP.\n",
      "WARNING: Base.@sprintf is deprecated: it has been moved to the standard library package `Printf`.\n",
      "Add `using Printf` to your imports.\n",
      "  likely near /Users/philip/.julia/packages/ConditionalJuMP/durM1/src/ConditionalJuMP.jl:277\n",
      "WARNING: Base.@sprintf is deprecated: it has been moved to the standard library package `Printf`.\n",
      "Add `using Printf` to your imports.\n",
      "  likely near /Users/philip/.julia/packages/ConditionalJuMP/durM1/src/ConditionalJuMP.jl:284\n",
      "WARNING: Base.@sprintf is deprecated: it has been moved to the standard library package `Printf`.\n",
      "Add `using Printf` to your imports.\n",
      "  likely near /Users/philip/.julia/packages/ConditionalJuMP/durM1/src/ConditionalJuMP.jl:293\n",
      "WARNING: importing deprecated binding Base.Void into ConditionalJuMP.\n",
      "WARNING: Base.Void is deprecated, use Nothing instead.\n",
      "  likely near /Users/philip/.julia/packages/ConditionalJuMP/durM1/src/ConditionalJuMP.jl:417\n",
      "ERROR: LoadError: cannot add methods to a builtin function\n",
      "Stacktrace:\n",
      " [1] top-level scope at none:0\n",
      " [2] include at ./boot.jl:317 [inlined]\n",
      " [3] include_relative(::Module, ::String) at ./loading.jl:1038\n",
      " [4] include(::Module, ::String) at ./sysimg.jl:29\n",
      " [5] top-level scope at none:2\n",
      " [6] eval at ./boot.jl:319 [inlined]\n",
      " [7] eval(::Expr) at ./client.jl:399\n",
      " [8] top-level scope at ./none:3\n",
      "in expression starting at /Users/philip/.julia/packages/ConditionalJuMP/durM1/src/ConditionalJuMP.jl:525\n"
     ]
    },
    {
     "ename": "ErrorException",
     "evalue": "Failed to precompile ConditionalJuMP [ae04f764-fc8b-5ee0-af1c-aa760b5c9409] to /Users/philip/.julia/compiled/v0.7/ConditionalJuMP/vKvUe.ji.",
     "output_type": "error",
     "traceback": [
      "Failed to precompile ConditionalJuMP [ae04f764-fc8b-5ee0-af1c-aa760b5c9409] to /Users/philip/.julia/compiled/v0.7/ConditionalJuMP/vKvUe.ji.",
      "",
      "Stacktrace:",
      " [1] error(::String) at ./error.jl:33",
      " [2] macro expansion at ./logging.jl:313 [inlined]",
      " [3] compilecache(::Base.PkgId, ::String) at ./loading.jl:1185",
      " [4] macro expansion at ./logging.jl:311 [inlined]",
      " [5] _require(::Base.PkgId) at ./loading.jl:941",
      " [6] require(::Base.PkgId) at ./loading.jl:852",
      " [7] macro expansion at ./logging.jl:311 [inlined]",
      " [8] require(::Module, ::Symbol) at ./loading.jl:834",
      " [9] top-level scope at In[3]:4"
     ]
    }
   ],
   "source": [
    "using JuMP\n",
    "using Cbc\n",
    "using PiecewiseLinearOpt\n",
    "using ConditionalJuMP"
   ]
  },
  {
   "cell_type": "code",
   "execution_count": null,
   "metadata": {},
   "outputs": [],
   "source": [
    "m = Model(CbcSolver())"
   ]
  },
  {
   "cell_type": "code",
   "execution_count": null,
   "metadata": {},
   "outputs": [],
   "source": [
    "N = 10\n",
    "@variable(m, -1 <= x[1:N] <= 10)\n",
    "@variable(m, -1 <= v[1:N] <= 10)\n",
    "#@variable(m, -1 belowfloor[1:N], Bin)\n",
    "g = 1.0\n",
    "T = 1.0\n",
    "dt = T/N\n",
    "for t in 1:N\n",
    "   @constraint(m, x[t+1] == x[t] + dt*v[t])\n",
    "   @constraint(m, v[t+1] == @switch(\n",
    "                           (x[t] + dt*(v[t] - g*dt) <= 0) => v[t] - g*dt,\n",
    "                           (x[t] + dt*(v[t] - g*dt) >= 0 => -v[t] - g*dt)))\n",
    "\n",
    "end\n",
    "\n"
   ]
  }
 ],
 "metadata": {
  "kernelspec": {
   "display_name": "Julia 0.7.0",
   "language": "julia",
   "name": "julia-0.7"
  },
  "language_info": {
   "file_extension": ".jl",
   "mimetype": "application/julia",
   "name": "julia",
   "version": "0.7.0"
  }
 },
 "nbformat": 4,
 "nbformat_minor": 2
}
