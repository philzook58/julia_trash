{
 "cells": [
  {
   "cell_type": "code",
   "execution_count": 1,
   "metadata": {},
   "outputs": [],
   "source": [
    "using JuMP\n",
    "using SumOfSquares\n",
    "using DynamicPolynomials\n",
    "using SCS"
   ]
  },
  {
   "cell_type": "code",
   "execution_count": null,
   "metadata": {},
   "outputs": [
    {
     "name": "stderr",
     "output_type": "stream",
     "text": [
      "┌ Warning: The addition operator has been used on JuMP expressions a large number of times. This warning is safe to ignore but may indicate that model generation is slower than necessary. For performance reasons, you should not add expressions in a loop. Instead of x += y, use add_to_expression!(x,y) to modify x in place. If y is a single variable, you may also use add_to_expression!(x, coef, y) for x += coef*y.\n",
      "└ @ JuMP /Users/philip/.julia/packages/JuMP/MsUSY/src/JuMP.jl:747\n"
     ]
    }
   ],
   "source": [
    "\n",
    "N = 10\n",
    "d = 2\n",
    "@polyvar x[1:N,1:d]\n",
    "X = monomials(reshape(x,d*N), 0:2)\n",
    "X1 = monomials(reshape(x,d*N), 0:4)\n",
    "\n",
    "model = SOSModel(with_optimizer(SCS.Optimizer))\n",
    "\n",
    "acc = nothing\n",
    "for t in sum(x .* x, dims=2)\n",
    "    #print(t)\n",
    "    p = @variable(model, [1:1], Poly(X1))\n",
    "    #print(p)\n",
    "    if acc != nothing\n",
    "        acc += p * (t - 1)\n",
    "    else\n",
    "        acc = p * (t - 1)\n",
    "    end\n",
    "end\n",
    "\n",
    "for i in range(1,stop=N)\n",
    "    for j in range(1,stop=i-1)\n",
    "        d  = x[i,:] - x[j,:]\n",
    "        p = @variable(model, [1:1], SOSPoly(X))\n",
    "        acc += p * (sum(d .* d) - 1)\n",
    "    end\n",
    "end\n",
    "\n",
    "#print(acc)\n",
    "print(typeof(acc))\n",
    "@constraint(model, acc[1] == -1 )\n",
    "optimize!(model)"
   ]
  },
  {
   "cell_type": "code",
   "execution_count": 39,
   "metadata": {},
   "outputs": [
    {
     "data": {
      "text/plain": [
       "1-element Array{UnitRange{Int64},1}:\n",
       " 1:1"
      ]
     },
     "execution_count": 39,
     "metadata": {},
     "output_type": "execute_result"
    }
   ],
   "source": []
  },
  {
   "cell_type": "code",
   "execution_count": null,
   "metadata": {},
   "outputs": [],
   "source": []
  }
 ],
 "metadata": {
  "@webio": {
   "lastCommId": null,
   "lastKernelId": null
  },
  "kernelspec": {
   "display_name": "Julia 1.2.0",
   "language": "julia",
   "name": "julia-1.2"
  },
  "language_info": {
   "file_extension": ".jl",
   "mimetype": "application/julia",
   "name": "julia",
   "version": "1.2.0"
  }
 },
 "nbformat": 4,
 "nbformat_minor": 2
}
