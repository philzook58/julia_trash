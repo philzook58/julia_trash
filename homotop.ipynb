{
 "cells": [
  {
   "cell_type": "code",
   "execution_count": 19,
   "metadata": {},
   "outputs": [],
   "source": [
    "using HomotopyContinuation\n",
    "using LinearAlgebra"
   ]
  },
  {
   "cell_type": "code",
   "execution_count": 13,
   "metadata": {},
   "outputs": [
    {
     "ename": "UndefVarError",
     "evalue": "UndefVarError: I not defined",
     "output_type": "error",
     "traceback": [
      "UndefVarError: I not defined",
      "",
      "Stacktrace:",
      " [1] top-level scope at In[13]:12"
     ]
    }
   ],
   "source": [
    "x = 10\n",
    "x + 1\n",
    "f(x) = 2x\n",
    "f(3)\n",
    "δ = 3 # tabs after latex\n",
    "typeof(\"My string\")\n",
    "function myfun(x,y)\n",
    "    x + y\n",
    "end\n",
    "zeros(3)\n",
    "ones(2)\n",
    "methods(Bool"
   ]
  },
  {
   "cell_type": "code",
   "execution_count": 10,
   "metadata": {},
   "outputs": [
    {
     "data": {
      "text/plain": [
       "4-element Array{Float64,1}:\n",
       " 0.5\n",
       " 0.2\n",
       " 0.3\n",
       " 0.4"
      ]
     },
     "execution_count": 10,
     "metadata": {},
     "output_type": "execute_result"
    }
   ],
   "source": [
    "link_lengths = [0.5,0.2,0.3,0.4]\n"
   ]
  },
  {
   "cell_type": "code",
   "execution_count": 37,
   "metadata": {},
   "outputs": [
    {
     "data": {
      "text/plain": [
       "(DynamicPolynomials.PolyVar{true}[p₁₋₁ p₁₋₂; p₂₋₁ p₂₋₂; p₃₋₁ p₃₋₂; p₄₋₁ p₄₋₂],)"
      ]
     },
     "execution_count": 37,
     "metadata": {},
     "output_type": "execute_result"
    }
   ],
   "source": [
    "@polyvar p[1:4,1:2]"
   ]
  },
  {
   "cell_type": "code",
   "execution_count": 73,
   "metadata": {},
   "outputs": [
    {
     "data": {
      "text/plain": [
       "4-element Array{DynamicPolynomials.Polynomial{true,Int64},1}:\n",
       " p₁₋₁² + p₁₋₂² - 1\n",
       " p₂₋₁² + p₂₋₂² - 1\n",
       " p₃₋₁² + p₃₋₂² - 1\n",
       " p₄₋₁² + p₄₋₂² - 1"
      ]
     },
     "execution_count": 73,
     "metadata": {},
     "output_type": "execute_result"
    }
   ],
   "source": [
    "q = vec(sum(p .* p, dims=2) .- 1)\n"
   ]
  },
  {
   "cell_type": "code",
   "execution_count": 55,
   "metadata": {},
   "outputs": [
    {
     "data": {
      "text/plain": [
       "3×1 Array{DynamicPolynomials.Polynomial{true,Float64},2}:\n",
       " p₁₋₁² - 2.0p₁₋₁p₂₋₁ + p₂₋₁² + p₁₋₂² - 2.0p₁₋₂p₂₋₂ + p₂₋₂² - 0.2\n",
       " p₂₋₁² - 2.0p₂₋₁p₃₋₁ + p₃₋₁² + p₂₋₂² - 2.0p₂₋₂p₃₋₂ + p₃₋₂² - 0.3\n",
       " p₃₋₁² - 2.0p₃₋₁p₄₋₁ + p₄₋₁² + p₃₋₂² - 2.0p₃₋₂p₄₋₂ + p₄₋₂² - 0.4"
      ]
     },
     "execution_count": 55,
     "metadata": {},
     "output_type": "execute_result"
    }
   ],
   "source": [
    "#r = sum((p[2:4,:] .- p[1:3,:]).^2,dims=2) - link_lengths[2:4]"
   ]
  },
  {
   "cell_type": "code",
   "execution_count": 65,
   "metadata": {},
   "outputs": [
    {
     "data": {
      "text/plain": [
       "2-element Array{Float64,1}:\n",
       " -0.5\n",
       "  0.7"
      ]
     },
     "execution_count": 65,
     "metadata": {},
     "output_type": "execute_result"
    }
   ],
   "source": [
    "end_position = [-0.5, .7]"
   ]
  },
  {
   "cell_type": "code",
   "execution_count": 72,
   "metadata": {},
   "outputs": [
    {
     "data": {
      "text/plain": [
       "2-element Array{DynamicPolynomials.Polynomial{true,Float64},1}:\n",
       " 0.5p₁₋₁ + 0.2p₂₋₁ + 0.3p₃₋₁ + 0.4p₄₋₁ + 0.5\n",
       " 0.5p₁₋₂ + 0.2p₂₋₂ + 0.3p₃₋₂ + 0.4p₄₋₂ - 0.7"
      ]
     },
     "execution_count": 72,
     "metadata": {},
     "output_type": "execute_result"
    }
   ],
   "source": [
    "r = vec(sum(reshape(link_lengths, (4,1)) .* p,dims=1)) - end_position #- reshape(end_position,(1,2))"
   ]
  },
  {
   "cell_type": "code",
   "execution_count": null,
   "metadata": {},
   "outputs": [],
   "source": []
  },
  {
   "cell_type": "code",
   "execution_count": 87,
   "metadata": {},
   "outputs": [
    {
     "data": {
      "text/plain": [
       "8-element Array{DynamicPolynomials.Polynomial{true,Float64},1}:\n",
       " p₁₋₁² + p₁₋₂² - 1.0                        \n",
       " p₂₋₁² + p₂₋₂² - 1.0                        \n",
       " p₃₋₁² + p₃₋₂² - 1.0                        \n",
       " p₄₋₁² + p₄₋₂² - 1.0                        \n",
       " 0.5p₁₋₁ + 0.2p₂₋₁ + 0.3p₃₋₁ + 0.4p₄₋₁ + 0.5\n",
       " 0.5p₁₋₂ + 0.2p₂₋₂ + 0.3p₃₋₂ + 0.4p₄₋₂ - 0.7\n",
       " p₁₋₁ + 1.0                                 \n",
       " p₁₋₂                                       "
      ]
     },
     "execution_count": 87,
     "metadata": {},
     "output_type": "execute_result"
    }
   ],
   "source": [
    "#constraints = vcat(q,r, dot(rand(8), vec(p)), dot(rand(8), vec(p)) )\n",
    "constraints = vcat(q,r, p[1,1]+1, p[1,2] )"
   ]
  },
  {
   "cell_type": "code",
   "execution_count": 89,
   "metadata": {},
   "outputs": [
    {
     "data": {
      "text/plain": [
       "2-element Array{Array{Float64,1},1}:\n",
       " [-1.0, 0.968246, 3.0965e-15, -0.484123, 1.55882e-21, 0.25, 1.0, 0.875]  \n",
       " [-1.0, -0.968246, 8.88279e-15, 0.484123, -1.45501e-21, 0.25, 1.0, 0.875]"
      ]
     },
     "execution_count": 89,
     "metadata": {},
     "output_type": "execute_result"
    }
   ],
   "source": [
    "real_solutions(solve(constraints))"
   ]
  },
  {
   "cell_type": "markdown",
   "metadata": {},
   "source": [
    "Hmm. Randomly using linear cuts did not do what I was hoping. Maybe I could add an optimization criteria. closeness to other control points. just constraining the arm to go to the left worked\n",
    "Optics with polynomials.\n",
    "Iso surface starting positiion. S(x)=0 \n",
    "(x1-x2)^2 + (y1-y2)^2 = d\n",
    "d(x,x') = (x1-x2)^2 + (y1-y2)^2\n",
    "partial(d,x)\n"
   ]
  }
 ],
 "metadata": {
  "kernelspec": {
   "display_name": "Julia 1.1.1",
   "language": "julia",
   "name": "julia-1.1"
  },
  "language_info": {
   "file_extension": ".jl",
   "mimetype": "application/julia",
   "name": "julia",
   "version": "1.1.1"
  }
 },
 "nbformat": 4,
 "nbformat_minor": 2
}
